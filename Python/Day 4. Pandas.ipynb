{
 "cells": [
  {
   "cell_type": "code",
   "execution_count": 81,
   "metadata": {},
   "outputs": [],
   "source": [
    "import numpy as np\n",
    "import pandas as pd"
   ]
  },
  {
   "cell_type": "code",
   "execution_count": 84,
   "metadata": {},
   "outputs": [],
   "source": [
    "#Addition of rows\n",
    "df1=pd.DataFrame([[2,3],[4,5]],columns=['a','b'])\n",
    "\n",
    "df2=pd.DataFrame([[4,5],[6,7]],columns=['a','b'])"
   ]
  },
  {
   "cell_type": "code",
   "execution_count": 87,
   "metadata": {},
   "outputs": [
    {
     "data": {
      "text/html": [
       "<div>\n",
       "<style scoped>\n",
       "    .dataframe tbody tr th:only-of-type {\n",
       "        vertical-align: middle;\n",
       "    }\n",
       "\n",
       "    .dataframe tbody tr th {\n",
       "        vertical-align: top;\n",
       "    }\n",
       "\n",
       "    .dataframe thead th {\n",
       "        text-align: right;\n",
       "    }\n",
       "</style>\n",
       "<table border=\"1\" class=\"dataframe\">\n",
       "  <thead>\n",
       "    <tr style=\"text-align: right;\">\n",
       "      <th></th>\n",
       "      <th>a</th>\n",
       "      <th>b</th>\n",
       "    </tr>\n",
       "  </thead>\n",
       "  <tbody>\n",
       "    <tr>\n",
       "      <th>0</th>\n",
       "      <td>2</td>\n",
       "      <td>3</td>\n",
       "    </tr>\n",
       "    <tr>\n",
       "      <th>1</th>\n",
       "      <td>4</td>\n",
       "      <td>5</td>\n",
       "    </tr>\n",
       "    <tr>\n",
       "      <th>0</th>\n",
       "      <td>4</td>\n",
       "      <td>5</td>\n",
       "    </tr>\n",
       "    <tr>\n",
       "      <th>1</th>\n",
       "      <td>6</td>\n",
       "      <td>7</td>\n",
       "    </tr>\n",
       "  </tbody>\n",
       "</table>\n",
       "</div>"
      ],
      "text/plain": [
       "   a  b\n",
       "0  2  3\n",
       "1  4  5\n",
       "0  4  5\n",
       "1  6  7"
      ]
     },
     "execution_count": 87,
     "metadata": {},
     "output_type": "execute_result"
    }
   ],
   "source": [
    "df=df1.append(df2)\n",
    "df"
   ]
  },
  {
   "cell_type": "code",
   "execution_count": 88,
   "metadata": {},
   "outputs": [
    {
     "data": {
      "text/html": [
       "<div>\n",
       "<style scoped>\n",
       "    .dataframe tbody tr th:only-of-type {\n",
       "        vertical-align: middle;\n",
       "    }\n",
       "\n",
       "    .dataframe tbody tr th {\n",
       "        vertical-align: top;\n",
       "    }\n",
       "\n",
       "    .dataframe thead th {\n",
       "        text-align: right;\n",
       "    }\n",
       "</style>\n",
       "<table border=\"1\" class=\"dataframe\">\n",
       "  <thead>\n",
       "    <tr style=\"text-align: right;\">\n",
       "      <th></th>\n",
       "      <th>a</th>\n",
       "      <th>b</th>\n",
       "    </tr>\n",
       "  </thead>\n",
       "  <tbody>\n",
       "    <tr>\n",
       "      <th>1</th>\n",
       "      <td>4</td>\n",
       "      <td>5</td>\n",
       "    </tr>\n",
       "    <tr>\n",
       "      <th>1</th>\n",
       "      <td>6</td>\n",
       "      <td>7</td>\n",
       "    </tr>\n",
       "  </tbody>\n",
       "</table>\n",
       "</div>"
      ],
      "text/plain": [
       "   a  b\n",
       "1  4  5\n",
       "1  6  7"
      ]
     },
     "execution_count": 88,
     "metadata": {},
     "output_type": "execute_result"
    }
   ],
   "source": [
    "#Deletion of rows\n",
    "df=df.drop(0)\n",
    "df"
   ]
  },
  {
   "cell_type": "markdown",
   "metadata": {},
   "source": [
    "# Pandas Dataset"
   ]
  },
  {
   "cell_type": "code",
   "execution_count": 89,
   "metadata": {},
   "outputs": [
    {
     "data": {
      "text/html": [
       "<div>\n",
       "<style scoped>\n",
       "    .dataframe tbody tr th:only-of-type {\n",
       "        vertical-align: middle;\n",
       "    }\n",
       "\n",
       "    .dataframe tbody tr th {\n",
       "        vertical-align: top;\n",
       "    }\n",
       "\n",
       "    .dataframe thead th {\n",
       "        text-align: right;\n",
       "    }\n",
       "</style>\n",
       "<table border=\"1\" class=\"dataframe\">\n",
       "  <thead>\n",
       "    <tr style=\"text-align: right;\">\n",
       "      <th></th>\n",
       "      <th>col1</th>\n",
       "      <th>col2</th>\n",
       "      <th>col3</th>\n",
       "    </tr>\n",
       "  </thead>\n",
       "  <tbody>\n",
       "    <tr>\n",
       "      <th>0</th>\n",
       "      <td>-0.096256</td>\n",
       "      <td>-0.111914</td>\n",
       "      <td>1.119840</td>\n",
       "    </tr>\n",
       "    <tr>\n",
       "      <th>1</th>\n",
       "      <td>-1.093940</td>\n",
       "      <td>0.775854</td>\n",
       "      <td>-0.857803</td>\n",
       "    </tr>\n",
       "    <tr>\n",
       "      <th>2</th>\n",
       "      <td>-0.218908</td>\n",
       "      <td>-0.752446</td>\n",
       "      <td>0.259537</td>\n",
       "    </tr>\n",
       "    <tr>\n",
       "      <th>3</th>\n",
       "      <td>-0.275083</td>\n",
       "      <td>0.949400</td>\n",
       "      <td>0.206639</td>\n",
       "    </tr>\n",
       "    <tr>\n",
       "      <th>4</th>\n",
       "      <td>2.783946</td>\n",
       "      <td>1.656665</td>\n",
       "      <td>0.008440</td>\n",
       "    </tr>\n",
       "  </tbody>\n",
       "</table>\n",
       "</div>"
      ],
      "text/plain": [
       "       col1      col2      col3\n",
       "0 -0.096256 -0.111914  1.119840\n",
       "1 -1.093940  0.775854 -0.857803\n",
       "2 -0.218908 -0.752446  0.259537\n",
       "3 -0.275083  0.949400  0.206639\n",
       "4  2.783946  1.656665  0.008440"
      ]
     },
     "execution_count": 89,
     "metadata": {},
     "output_type": "execute_result"
    }
   ],
   "source": [
    "df = pd.DataFrame(np.random.randn(5,3),columns=['col1','col2','col3'])\n",
    "df"
   ]
  },
  {
   "cell_type": "markdown",
   "metadata": {},
   "source": [
    "# Pandas-Descriptive Statistics"
   ]
  },
  {
   "cell_type": "code",
   "execution_count": 90,
   "metadata": {},
   "outputs": [
    {
     "data": {
      "text/plain": [
       "col1    1.099759\n",
       "col2    2.517559\n",
       "col3    0.736653\n",
       "dtype: float64"
      ]
     },
     "execution_count": 90,
     "metadata": {},
     "output_type": "execute_result"
    }
   ],
   "source": [
    "#Count\n",
    "df.sum(0)"
   ]
  },
  {
   "cell_type": "code",
   "execution_count": 25,
   "metadata": {},
   "outputs": [
    {
     "data": {
      "text/plain": [
       "0    1.096161\n",
       "1   -1.914736\n",
       "2    3.074245\n",
       "3    1.833692\n",
       "4   -0.465217\n",
       "dtype: float64"
      ]
     },
     "execution_count": 25,
     "metadata": {},
     "output_type": "execute_result"
    }
   ],
   "source": [
    "#Count\n",
    "df.sum(1)"
   ]
  },
  {
   "cell_type": "code",
   "execution_count": 26,
   "metadata": {},
   "outputs": [
    {
     "data": {
      "text/plain": [
       "col1    0.248860\n",
       "col2   -0.404139\n",
       "col3    0.880108\n",
       "dtype: float64"
      ]
     },
     "execution_count": 26,
     "metadata": {},
     "output_type": "execute_result"
    }
   ],
   "source": [
    "#Average \n",
    "df.mean()"
   ]
  },
  {
   "cell_type": "code",
   "execution_count": 27,
   "metadata": {},
   "outputs": [
    {
     "data": {
      "text/plain": [
       "col1    0.781983\n",
       "col2    0.622220\n",
       "col3    1.648225\n",
       "dtype: float64"
      ]
     },
     "execution_count": 27,
     "metadata": {},
     "output_type": "execute_result"
    }
   ],
   "source": [
    "#Standard deviation\n",
    "df.std()"
   ]
  },
  {
   "cell_type": "code",
   "execution_count": 28,
   "metadata": {},
   "outputs": [
    {
     "data": {
      "text/plain": [
       "col1    5\n",
       "col2    5\n",
       "col3    5\n",
       "dtype: int64"
      ]
     },
     "execution_count": 28,
     "metadata": {},
     "output_type": "execute_result"
    }
   ],
   "source": [
    "#number of observations\n",
    "df.count()"
   ]
  },
  {
   "cell_type": "code",
   "execution_count": 91,
   "metadata": {},
   "outputs": [
    {
     "data": {
      "text/html": [
       "<div>\n",
       "<style scoped>\n",
       "    .dataframe tbody tr th:only-of-type {\n",
       "        vertical-align: middle;\n",
       "    }\n",
       "\n",
       "    .dataframe tbody tr th {\n",
       "        vertical-align: top;\n",
       "    }\n",
       "\n",
       "    .dataframe thead th {\n",
       "        text-align: right;\n",
       "    }\n",
       "</style>\n",
       "<table border=\"1\" class=\"dataframe\">\n",
       "  <thead>\n",
       "    <tr style=\"text-align: right;\">\n",
       "      <th></th>\n",
       "      <th>col1</th>\n",
       "      <th>col2</th>\n",
       "      <th>col3</th>\n",
       "    </tr>\n",
       "  </thead>\n",
       "  <tbody>\n",
       "    <tr>\n",
       "      <th>count</th>\n",
       "      <td>5.000000</td>\n",
       "      <td>5.000000</td>\n",
       "      <td>5.000000</td>\n",
       "    </tr>\n",
       "    <tr>\n",
       "      <th>mean</th>\n",
       "      <td>0.219952</td>\n",
       "      <td>0.503512</td>\n",
       "      <td>0.147331</td>\n",
       "    </tr>\n",
       "    <tr>\n",
       "      <th>std</th>\n",
       "      <td>1.486441</td>\n",
       "      <td>0.943256</td>\n",
       "      <td>0.705597</td>\n",
       "    </tr>\n",
       "    <tr>\n",
       "      <th>min</th>\n",
       "      <td>-1.093940</td>\n",
       "      <td>-0.752446</td>\n",
       "      <td>-0.857803</td>\n",
       "    </tr>\n",
       "    <tr>\n",
       "      <th>25%</th>\n",
       "      <td>-0.275083</td>\n",
       "      <td>-0.111914</td>\n",
       "      <td>0.008440</td>\n",
       "    </tr>\n",
       "    <tr>\n",
       "      <th>50%</th>\n",
       "      <td>-0.218908</td>\n",
       "      <td>0.775854</td>\n",
       "      <td>0.206639</td>\n",
       "    </tr>\n",
       "    <tr>\n",
       "      <th>75%</th>\n",
       "      <td>-0.096256</td>\n",
       "      <td>0.949400</td>\n",
       "      <td>0.259537</td>\n",
       "    </tr>\n",
       "    <tr>\n",
       "      <th>max</th>\n",
       "      <td>2.783946</td>\n",
       "      <td>1.656665</td>\n",
       "      <td>1.119840</td>\n",
       "    </tr>\n",
       "  </tbody>\n",
       "</table>\n",
       "</div>"
      ],
      "text/plain": [
       "           col1      col2      col3\n",
       "count  5.000000  5.000000  5.000000\n",
       "mean   0.219952  0.503512  0.147331\n",
       "std    1.486441  0.943256  0.705597\n",
       "min   -1.093940 -0.752446 -0.857803\n",
       "25%   -0.275083 -0.111914  0.008440\n",
       "50%   -0.218908  0.775854  0.206639\n",
       "75%   -0.096256  0.949400  0.259537\n",
       "max    2.783946  1.656665  1.119840"
      ]
     },
     "execution_count": 91,
     "metadata": {},
     "output_type": "execute_result"
    }
   ],
   "source": [
    "#Summarizing data\n",
    "df.describe()"
   ]
  },
  {
   "cell_type": "markdown",
   "metadata": {},
   "source": [
    "#### Row or Column Wise Function Application"
   ]
  },
  {
   "cell_type": "code",
   "execution_count": 19,
   "metadata": {},
   "outputs": [
    {
     "data": {
      "text/plain": [
       "col1   -0.181613\n",
       "col2    0.065528\n",
       "col3    0.061066\n",
       "dtype: float64"
      ]
     },
     "execution_count": 19,
     "metadata": {},
     "output_type": "execute_result"
    }
   ],
   "source": [
    "#Columnwise operation\n",
    "df.apply(np.mean, axis=0)"
   ]
  },
  {
   "cell_type": "code",
   "execution_count": 20,
   "metadata": {},
   "outputs": [
    {
     "data": {
      "text/plain": [
       "0   -0.182341\n",
       "1    0.666203\n",
       "2    0.252884\n",
       "3    0.342511\n",
       "4   -1.170956\n",
       "dtype: float64"
      ]
     },
     "execution_count": 20,
     "metadata": {},
     "output_type": "execute_result"
    }
   ],
   "source": [
    "# Rowwise operation\n",
    "df.apply(np.mean, axis=1) "
   ]
  },
  {
   "cell_type": "markdown",
   "metadata": {},
   "source": [
    "#### Element wise function application"
   ]
  },
  {
   "cell_type": "code",
   "execution_count": 92,
   "metadata": {},
   "outputs": [
    {
     "data": {
      "text/plain": [
       "0     -9.625610\n",
       "1   -109.394043\n",
       "2    -21.890759\n",
       "3    -27.508328\n",
       "4    278.394594\n",
       "Name: col1, dtype: float64"
      ]
     },
     "execution_count": 92,
     "metadata": {},
     "output_type": "execute_result"
    }
   ],
   "source": [
    "#Particular element operation\n",
    "df['col1'].map(lambda x:x*100)"
   ]
  },
  {
   "cell_type": "code",
   "execution_count": 100,
   "metadata": {},
   "outputs": [
    {
     "data": {
      "text/html": [
       "<div>\n",
       "<style scoped>\n",
       "    .dataframe tbody tr th:only-of-type {\n",
       "        vertical-align: middle;\n",
       "    }\n",
       "\n",
       "    .dataframe tbody tr th {\n",
       "        vertical-align: top;\n",
       "    }\n",
       "\n",
       "    .dataframe thead th {\n",
       "        text-align: right;\n",
       "    }\n",
       "</style>\n",
       "<table border=\"1\" class=\"dataframe\">\n",
       "  <thead>\n",
       "    <tr style=\"text-align: right;\">\n",
       "      <th></th>\n",
       "      <th>col1</th>\n",
       "      <th>col2</th>\n",
       "      <th>col3</th>\n",
       "    </tr>\n",
       "  </thead>\n",
       "  <tbody>\n",
       "    <tr>\n",
       "      <th>0</th>\n",
       "      <td>-84.114048</td>\n",
       "      <td>-8.607772</td>\n",
       "      <td>-0.029425</td>\n",
       "    </tr>\n",
       "    <tr>\n",
       "      <th>1</th>\n",
       "      <td>14.977520</td>\n",
       "      <td>56.870018</td>\n",
       "      <td>118.784100</td>\n",
       "    </tr>\n",
       "    <tr>\n",
       "      <th>2</th>\n",
       "      <td>69.276339</td>\n",
       "      <td>66.613164</td>\n",
       "      <td>28.630629</td>\n",
       "    </tr>\n",
       "    <tr>\n",
       "      <th>3</th>\n",
       "      <td>66.474186</td>\n",
       "      <td>40.634035</td>\n",
       "      <td>94.866065</td>\n",
       "    </tr>\n",
       "    <tr>\n",
       "      <th>4</th>\n",
       "      <td>64.637178</td>\n",
       "      <td>46.299029</td>\n",
       "      <td>-21.358302</td>\n",
       "    </tr>\n",
       "  </tbody>\n",
       "</table>\n",
       "</div>"
      ],
      "text/plain": [
       "        col1       col2        col3\n",
       "0 -84.114048  -8.607772   -0.029425\n",
       "1  14.977520  56.870018  118.784100\n",
       "2  69.276339  66.613164   28.630629\n",
       "3  66.474186  40.634035   94.866065\n",
       "4  64.637178  46.299029  -21.358302"
      ]
     },
     "execution_count": 100,
     "metadata": {},
     "output_type": "execute_result"
    }
   ],
   "source": [
    "#Group operation\n",
    "df.applymap(lambda x:x*100)"
   ]
  },
  {
   "cell_type": "markdown",
   "metadata": {},
   "source": [
    "#### Renaming"
   ]
  },
  {
   "cell_type": "markdown",
   "metadata": {},
   "source": [
    "The rename() method allows you to relabel an axis based on some mapping (a dict or Series) or an arbitrary function."
   ]
  },
  {
   "cell_type": "code",
   "execution_count": 93,
   "metadata": {},
   "outputs": [
    {
     "data": {
      "text/html": [
       "<div>\n",
       "<style scoped>\n",
       "    .dataframe tbody tr th:only-of-type {\n",
       "        vertical-align: middle;\n",
       "    }\n",
       "\n",
       "    .dataframe tbody tr th {\n",
       "        vertical-align: top;\n",
       "    }\n",
       "\n",
       "    .dataframe thead th {\n",
       "        text-align: right;\n",
       "    }\n",
       "</style>\n",
       "<table border=\"1\" class=\"dataframe\">\n",
       "  <thead>\n",
       "    <tr style=\"text-align: right;\">\n",
       "      <th></th>\n",
       "      <th>col1</th>\n",
       "      <th>col2</th>\n",
       "      <th>col3</th>\n",
       "    </tr>\n",
       "  </thead>\n",
       "  <tbody>\n",
       "    <tr>\n",
       "      <th>0</th>\n",
       "      <td>-0.375173</td>\n",
       "      <td>0.753893</td>\n",
       "      <td>-0.173676</td>\n",
       "    </tr>\n",
       "    <tr>\n",
       "      <th>1</th>\n",
       "      <td>-1.619651</td>\n",
       "      <td>-1.245392</td>\n",
       "      <td>1.775555</td>\n",
       "    </tr>\n",
       "    <tr>\n",
       "      <th>2</th>\n",
       "      <td>2.023578</td>\n",
       "      <td>0.314755</td>\n",
       "      <td>0.177018</td>\n",
       "    </tr>\n",
       "    <tr>\n",
       "      <th>3</th>\n",
       "      <td>-0.343537</td>\n",
       "      <td>-0.323189</td>\n",
       "      <td>-0.134364</td>\n",
       "    </tr>\n",
       "    <tr>\n",
       "      <th>4</th>\n",
       "      <td>0.511309</td>\n",
       "      <td>0.199103</td>\n",
       "      <td>-1.664978</td>\n",
       "    </tr>\n",
       "    <tr>\n",
       "      <th>5</th>\n",
       "      <td>-0.545790</td>\n",
       "      <td>0.691158</td>\n",
       "      <td>-1.145319</td>\n",
       "    </tr>\n",
       "  </tbody>\n",
       "</table>\n",
       "</div>"
      ],
      "text/plain": [
       "       col1      col2      col3\n",
       "0 -0.375173  0.753893 -0.173676\n",
       "1 -1.619651 -1.245392  1.775555\n",
       "2  2.023578  0.314755  0.177018\n",
       "3 -0.343537 -0.323189 -0.134364\n",
       "4  0.511309  0.199103 -1.664978\n",
       "5 -0.545790  0.691158 -1.145319"
      ]
     },
     "execution_count": 93,
     "metadata": {},
     "output_type": "execute_result"
    }
   ],
   "source": [
    "df1 = pd.DataFrame(np.random.randn(6,3),columns=['col1','col2','col3'])\n",
    "df1"
   ]
  },
  {
   "cell_type": "code",
   "execution_count": 95,
   "metadata": {},
   "outputs": [
    {
     "name": "stdout",
     "output_type": "stream",
     "text": [
      "After renaming the rows and columns:\n",
      "         c1        c2      col3\n",
      "0 -0.375173  0.753893 -0.173676\n",
      "1 -1.619651 -1.245392  1.775555\n",
      "2  2.023578  0.314755  0.177018\n",
      "3 -0.343537 -0.323189 -0.134364\n",
      "4  0.511309  0.199103 -1.664978\n",
      "5 -0.545790  0.691158 -1.145319\n"
     ]
    }
   ],
   "source": [
    "print (\"After renaming the rows and columns:\")\n",
    "print (df1.rename(columns={'col1' : 'c1', 'col2' : 'c2'}))\n",
    "\n",
    "# data_frame_name.re tab "
   ]
  },
  {
   "cell_type": "markdown",
   "metadata": {},
   "source": [
    "#### Iterating a dataframe"
   ]
  },
  {
   "cell_type": "code",
   "execution_count": 98,
   "metadata": {},
   "outputs": [
    {
     "data": {
      "text/plain": [
       "['Medium', 'Low', 'Medium', 'High', 'Low']"
      ]
     },
     "execution_count": 98,
     "metadata": {},
     "output_type": "execute_result"
    }
   ],
   "source": [
    "np.random.choice(['Low','Medium','High'],5).tolist()"
   ]
  },
  {
   "cell_type": "code",
   "execution_count": 99,
   "metadata": {},
   "outputs": [
    {
     "data": {
      "text/html": [
       "<div>\n",
       "<style scoped>\n",
       "    .dataframe tbody tr th:only-of-type {\n",
       "        vertical-align: middle;\n",
       "    }\n",
       "\n",
       "    .dataframe tbody tr th {\n",
       "        vertical-align: top;\n",
       "    }\n",
       "\n",
       "    .dataframe thead th {\n",
       "        text-align: right;\n",
       "    }\n",
       "</style>\n",
       "<table border=\"1\" class=\"dataframe\">\n",
       "  <thead>\n",
       "    <tr style=\"text-align: right;\">\n",
       "      <th></th>\n",
       "      <th>A</th>\n",
       "      <th>x</th>\n",
       "      <th>y</th>\n",
       "      <th>C</th>\n",
       "      <th>D</th>\n",
       "    </tr>\n",
       "  </thead>\n",
       "  <tbody>\n",
       "    <tr>\n",
       "      <th>0</th>\n",
       "      <td>2016-01-01</td>\n",
       "      <td>0.0</td>\n",
       "      <td>0.103147</td>\n",
       "      <td>Low</td>\n",
       "      <td>117.813048</td>\n",
       "    </tr>\n",
       "    <tr>\n",
       "      <th>1</th>\n",
       "      <td>2016-01-02</td>\n",
       "      <td>1.0</td>\n",
       "      <td>0.720784</td>\n",
       "      <td>Medium</td>\n",
       "      <td>97.745416</td>\n",
       "    </tr>\n",
       "    <tr>\n",
       "      <th>2</th>\n",
       "      <td>2016-01-03</td>\n",
       "      <td>2.0</td>\n",
       "      <td>0.332840</td>\n",
       "      <td>High</td>\n",
       "      <td>92.651852</td>\n",
       "    </tr>\n",
       "    <tr>\n",
       "      <th>3</th>\n",
       "      <td>2016-01-04</td>\n",
       "      <td>3.0</td>\n",
       "      <td>0.176065</td>\n",
       "      <td>Low</td>\n",
       "      <td>87.468930</td>\n",
       "    </tr>\n",
       "    <tr>\n",
       "      <th>4</th>\n",
       "      <td>2016-01-05</td>\n",
       "      <td>4.0</td>\n",
       "      <td>0.331266</td>\n",
       "      <td>Low</td>\n",
       "      <td>95.976831</td>\n",
       "    </tr>\n",
       "    <tr>\n",
       "      <th>5</th>\n",
       "      <td>2016-01-06</td>\n",
       "      <td>5.0</td>\n",
       "      <td>0.252296</td>\n",
       "      <td>High</td>\n",
       "      <td>103.164663</td>\n",
       "    </tr>\n",
       "    <tr>\n",
       "      <th>6</th>\n",
       "      <td>2016-01-07</td>\n",
       "      <td>6.0</td>\n",
       "      <td>0.193781</td>\n",
       "      <td>Medium</td>\n",
       "      <td>96.265211</td>\n",
       "    </tr>\n",
       "    <tr>\n",
       "      <th>7</th>\n",
       "      <td>2016-01-08</td>\n",
       "      <td>7.0</td>\n",
       "      <td>0.781142</td>\n",
       "      <td>Medium</td>\n",
       "      <td>90.053695</td>\n",
       "    </tr>\n",
       "    <tr>\n",
       "      <th>8</th>\n",
       "      <td>2016-01-09</td>\n",
       "      <td>8.0</td>\n",
       "      <td>0.921803</td>\n",
       "      <td>Medium</td>\n",
       "      <td>82.893975</td>\n",
       "    </tr>\n",
       "    <tr>\n",
       "      <th>9</th>\n",
       "      <td>2016-01-10</td>\n",
       "      <td>9.0</td>\n",
       "      <td>0.209122</td>\n",
       "      <td>Low</td>\n",
       "      <td>90.782548</td>\n",
       "    </tr>\n",
       "  </tbody>\n",
       "</table>\n",
       "</div>"
      ],
      "text/plain": [
       "           A    x         y       C           D\n",
       "0 2016-01-01  0.0  0.103147     Low  117.813048\n",
       "1 2016-01-02  1.0  0.720784  Medium   97.745416\n",
       "2 2016-01-03  2.0  0.332840    High   92.651852\n",
       "3 2016-01-04  3.0  0.176065     Low   87.468930\n",
       "4 2016-01-05  4.0  0.331266     Low   95.976831\n",
       "5 2016-01-06  5.0  0.252296    High  103.164663\n",
       "6 2016-01-07  6.0  0.193781  Medium   96.265211\n",
       "7 2016-01-08  7.0  0.781142  Medium   90.053695\n",
       "8 2016-01-09  8.0  0.921803  Medium   82.893975\n",
       "9 2016-01-10  9.0  0.209122     Low   90.782548"
      ]
     },
     "execution_count": 99,
     "metadata": {},
     "output_type": "execute_result"
    }
   ],
   "source": [
    "N=10\n",
    "\n",
    "df = pd.DataFrame({\n",
    "    'A': pd.date_range(start='2016-01-01',periods=N,freq='D'),\n",
    "    'x': np.linspace(0,stop=N-1,num=N),\n",
    "    'y': np.random.rand(N),\n",
    "    'C': np.random.choice(['Low','Medium','High'],N).tolist(),\n",
    "    'D': np.random.normal(100, 10, size=(N)).tolist()\n",
    "    })\n",
    "df"
   ]
  },
  {
   "cell_type": "markdown",
   "metadata": {},
   "source": [
    "# Sorting"
   ]
  },
  {
   "cell_type": "code",
   "execution_count": 100,
   "metadata": {},
   "outputs": [
    {
     "name": "stdout",
     "output_type": "stream",
     "text": [
      "       col2      col1\n",
      "0  1.111395  0.863368\n",
      "1  0.575558 -0.795732\n",
      "2 -0.167778  1.470666\n",
      "3 -1.883537  0.578472\n",
      "4  0.376373 -1.469134\n",
      "5 -0.653191  0.587531\n",
      "6 -0.110745 -0.243499\n",
      "7 -1.581437  0.782970\n",
      "8 -0.162680  0.252679\n",
      "9  0.939634 -0.207805\n"
     ]
    }
   ],
   "source": [
    "unsorted_df=pd.DataFrame(np.random.randn(10,2),columns=['col2','col1'])\n",
    "print(unsorted_df)"
   ]
  },
  {
   "cell_type": "code",
   "execution_count": 101,
   "metadata": {},
   "outputs": [
    {
     "name": "stdout",
     "output_type": "stream",
     "text": [
      "       col1      col2\n",
      "0  0.863368  1.111395\n",
      "1 -0.795732  0.575558\n",
      "2  1.470666 -0.167778\n",
      "3  0.578472 -1.883537\n",
      "4 -1.469134  0.376373\n",
      "5  0.587531 -0.653191\n",
      "6 -0.243499 -0.110745\n",
      "7  0.782970 -1.581437\n",
      "8  0.252679 -0.162680\n",
      "9 -0.207805  0.939634\n"
     ]
    }
   ],
   "source": [
    "#Sort the columns\n",
    "sorted_df=unsorted_df.sort_index(axis=1)\n",
    "print (sorted_df)"
   ]
  },
  {
   "cell_type": "code",
   "execution_count": 102,
   "metadata": {},
   "outputs": [
    {
     "data": {
      "text/html": [
       "<div>\n",
       "<style scoped>\n",
       "    .dataframe tbody tr th:only-of-type {\n",
       "        vertical-align: middle;\n",
       "    }\n",
       "\n",
       "    .dataframe tbody tr th {\n",
       "        vertical-align: top;\n",
       "    }\n",
       "\n",
       "    .dataframe thead th {\n",
       "        text-align: right;\n",
       "    }\n",
       "</style>\n",
       "<table border=\"1\" class=\"dataframe\">\n",
       "  <thead>\n",
       "    <tr style=\"text-align: right;\">\n",
       "      <th></th>\n",
       "      <th>col1</th>\n",
       "      <th>col2</th>\n",
       "    </tr>\n",
       "  </thead>\n",
       "  <tbody>\n",
       "    <tr>\n",
       "      <th>0</th>\n",
       "      <td>2</td>\n",
       "      <td>1</td>\n",
       "    </tr>\n",
       "    <tr>\n",
       "      <th>1</th>\n",
       "      <td>1</td>\n",
       "      <td>3</td>\n",
       "    </tr>\n",
       "    <tr>\n",
       "      <th>2</th>\n",
       "      <td>1</td>\n",
       "      <td>2</td>\n",
       "    </tr>\n",
       "    <tr>\n",
       "      <th>3</th>\n",
       "      <td>1</td>\n",
       "      <td>4</td>\n",
       "    </tr>\n",
       "  </tbody>\n",
       "</table>\n",
       "</div>"
      ],
      "text/plain": [
       "   col1  col2\n",
       "0     2     1\n",
       "1     1     3\n",
       "2     1     2\n",
       "3     1     4"
      ]
     },
     "execution_count": 102,
     "metadata": {},
     "output_type": "execute_result"
    }
   ],
   "source": [
    "#By values\n",
    "unsorted_df = pd.DataFrame({'col1':[2,1,1,1],'col2':[1,3,2,4]})\n",
    "unsorted_df"
   ]
  },
  {
   "cell_type": "code",
   "execution_count": 103,
   "metadata": {},
   "outputs": [
    {
     "name": "stdout",
     "output_type": "stream",
     "text": [
      "   col1  col2\n",
      "1     1     3\n",
      "2     1     2\n",
      "3     1     4\n",
      "0     2     1\n"
     ]
    }
   ],
   "source": [
    "sorted_df = unsorted_df.sort_values(by='col1')\n",
    "print (sorted_df)"
   ]
  },
  {
   "cell_type": "markdown",
   "metadata": {},
   "source": [
    "# Indexing and Selecting Data"
   ]
  },
  {
   "cell_type": "markdown",
   "metadata": {},
   "source": [
    ".loc()---Label based"
   ]
  },
  {
   "cell_type": "markdown",
   "metadata": {},
   "source": [
    ".iloc--integer based"
   ]
  },
  {
   "cell_type": "markdown",
   "metadata": {},
   "source": [
    ".ix() -\tBoth Label and Integer based"
   ]
  },
  {
   "cell_type": "markdown",
   "metadata": {},
   "source": [
    "### .loc()"
   ]
  },
  {
   "cell_type": "code",
   "execution_count": 105,
   "metadata": {},
   "outputs": [
    {
     "data": {
      "text/html": [
       "<div>\n",
       "<style scoped>\n",
       "    .dataframe tbody tr th:only-of-type {\n",
       "        vertical-align: middle;\n",
       "    }\n",
       "\n",
       "    .dataframe tbody tr th {\n",
       "        vertical-align: top;\n",
       "    }\n",
       "\n",
       "    .dataframe thead th {\n",
       "        text-align: right;\n",
       "    }\n",
       "</style>\n",
       "<table border=\"1\" class=\"dataframe\">\n",
       "  <thead>\n",
       "    <tr style=\"text-align: right;\">\n",
       "      <th></th>\n",
       "      <th>A</th>\n",
       "      <th>B</th>\n",
       "      <th>C</th>\n",
       "      <th>D</th>\n",
       "    </tr>\n",
       "  </thead>\n",
       "  <tbody>\n",
       "    <tr>\n",
       "      <th>a</th>\n",
       "      <td>-0.116517</td>\n",
       "      <td>0.138585</td>\n",
       "      <td>0.392036</td>\n",
       "      <td>0.343557</td>\n",
       "    </tr>\n",
       "    <tr>\n",
       "      <th>b</th>\n",
       "      <td>-0.133126</td>\n",
       "      <td>0.497111</td>\n",
       "      <td>-0.857716</td>\n",
       "      <td>-0.663094</td>\n",
       "    </tr>\n",
       "    <tr>\n",
       "      <th>c</th>\n",
       "      <td>1.296035</td>\n",
       "      <td>-1.292303</td>\n",
       "      <td>1.441378</td>\n",
       "      <td>0.165439</td>\n",
       "    </tr>\n",
       "    <tr>\n",
       "      <th>d</th>\n",
       "      <td>-1.043970</td>\n",
       "      <td>-0.368558</td>\n",
       "      <td>-0.377721</td>\n",
       "      <td>-0.188170</td>\n",
       "    </tr>\n",
       "    <tr>\n",
       "      <th>e</th>\n",
       "      <td>0.795451</td>\n",
       "      <td>-0.177938</td>\n",
       "      <td>-0.175088</td>\n",
       "      <td>0.555738</td>\n",
       "    </tr>\n",
       "    <tr>\n",
       "      <th>f</th>\n",
       "      <td>0.503280</td>\n",
       "      <td>-1.142144</td>\n",
       "      <td>-0.336022</td>\n",
       "      <td>1.191648</td>\n",
       "    </tr>\n",
       "    <tr>\n",
       "      <th>g</th>\n",
       "      <td>0.523207</td>\n",
       "      <td>1.616216</td>\n",
       "      <td>-0.347525</td>\n",
       "      <td>-2.297608</td>\n",
       "    </tr>\n",
       "    <tr>\n",
       "      <th>h</th>\n",
       "      <td>-1.080482</td>\n",
       "      <td>-0.839086</td>\n",
       "      <td>-2.304489</td>\n",
       "      <td>-0.451477</td>\n",
       "    </tr>\n",
       "  </tbody>\n",
       "</table>\n",
       "</div>"
      ],
      "text/plain": [
       "          A         B         C         D\n",
       "a -0.116517  0.138585  0.392036  0.343557\n",
       "b -0.133126  0.497111 -0.857716 -0.663094\n",
       "c  1.296035 -1.292303  1.441378  0.165439\n",
       "d -1.043970 -0.368558 -0.377721 -0.188170\n",
       "e  0.795451 -0.177938 -0.175088  0.555738\n",
       "f  0.503280 -1.142144 -0.336022  1.191648\n",
       "g  0.523207  1.616216 -0.347525 -2.297608\n",
       "h -1.080482 -0.839086 -2.304489 -0.451477"
      ]
     },
     "execution_count": 105,
     "metadata": {},
     "output_type": "execute_result"
    }
   ],
   "source": [
    "df = pd.DataFrame(np.random.randn(8, 4),\n",
    "index = ['a','b','c','d','e','f','g','h'], columns = ['A', 'B', 'C', 'D'])\n",
    "df"
   ]
  },
  {
   "cell_type": "code",
   "execution_count": 107,
   "metadata": {},
   "outputs": [
    {
     "name": "stdout",
     "output_type": "stream",
     "text": [
      "a    0.138585\n",
      "b    0.497111\n",
      "c   -1.292303\n",
      "d   -0.368558\n",
      "e   -0.177938\n",
      "f   -1.142144\n",
      "g    1.616216\n",
      "h   -0.839086\n",
      "Name: B, dtype: float64\n"
     ]
    }
   ],
   "source": [
    "#select all rows for a specific column\n",
    "print (df.loc[: , 'B'])            #df[,3]     df.loc[rows  , columns]"
   ]
  },
  {
   "cell_type": "code",
   "execution_count": 109,
   "metadata": {},
   "outputs": [
    {
     "name": "stdout",
     "output_type": "stream",
     "text": [
      "          A         D\n",
      "a -0.116517  0.343557\n",
      "b -0.133126 -0.663094\n",
      "c  1.296035  0.165439\n",
      "d -1.043970 -0.188170\n",
      "e  0.795451  0.555738\n",
      "f  0.503280  1.191648\n",
      "g  0.523207 -2.297608\n",
      "h -1.080482 -0.451477\n"
     ]
    }
   ],
   "source": [
    "# Select all rows for multiple columns, say list[]\n",
    "\n",
    "print (df.loc[: , ['A','D']])"
   ]
  },
  {
   "cell_type": "code",
   "execution_count": 112,
   "metadata": {},
   "outputs": [
    {
     "name": "stdout",
     "output_type": "stream",
     "text": [
      "          A         C\n",
      "a -0.116517  0.392036\n",
      "b -0.133126 -0.857716\n",
      "f  0.503280 -0.336022\n",
      "h -1.080482 -2.304489\n"
     ]
    }
   ],
   "source": [
    "# Select few rows for multiple columns, say list[]\n",
    "\n",
    "print (df.loc[['a','b','f','h'] , ['A','C']])"
   ]
  },
  {
   "cell_type": "code",
   "execution_count": 70,
   "metadata": {},
   "outputs": [
    {
     "name": "stdout",
     "output_type": "stream",
     "text": [
      "          A         B         C         D\n",
      "a -1.225195  0.438690  1.560153  0.526607\n",
      "b  0.634479  0.009808  0.713857 -0.372245\n",
      "c -0.069471  1.793396 -2.242903  1.661642\n",
      "d -0.503377 -2.233413  0.400963  0.587865\n",
      "e  1.481076  1.506656 -0.700548 -2.500530\n",
      "f  0.493950  0.458303 -2.294748  0.178606\n"
     ]
    }
   ],
   "source": [
    "# Select range of rows for all columns\n",
    "print (df.loc['a':'f'])"
   ]
  },
  {
   "cell_type": "code",
   "execution_count": 71,
   "metadata": {},
   "outputs": [
    {
     "name": "stdout",
     "output_type": "stream",
     "text": [
      "          A         B         C         D\n",
      "a -1.225195  0.438690  1.560153  0.526607\n",
      "b  0.634479  0.009808  0.713857 -0.372245\n",
      "c -0.069471  1.793396 -2.242903  1.661642\n",
      "d -0.503377 -2.233413  0.400963  0.587865\n",
      "e  1.481076  1.506656 -0.700548 -2.500530\n"
     ]
    }
   ],
   "source": [
    "print (df.loc[:'e',])"
   ]
  },
  {
   "cell_type": "code",
   "execution_count": 72,
   "metadata": {},
   "outputs": [
    {
     "name": "stdout",
     "output_type": "stream",
     "text": [
      "A    False\n",
      "B     True\n",
      "C     True\n",
      "D     True\n",
      "Name: a, dtype: bool\n"
     ]
    }
   ],
   "source": [
    "# for getting values with a boolean array\n",
    "print (df.loc['a']>0)"
   ]
  },
  {
   "cell_type": "markdown",
   "metadata": {},
   "source": [
    "### .iloc()"
   ]
  },
  {
   "cell_type": "code",
   "execution_count": 113,
   "metadata": {},
   "outputs": [
    {
     "data": {
      "text/html": [
       "<div>\n",
       "<style scoped>\n",
       "    .dataframe tbody tr th:only-of-type {\n",
       "        vertical-align: middle;\n",
       "    }\n",
       "\n",
       "    .dataframe tbody tr th {\n",
       "        vertical-align: top;\n",
       "    }\n",
       "\n",
       "    .dataframe thead th {\n",
       "        text-align: right;\n",
       "    }\n",
       "</style>\n",
       "<table border=\"1\" class=\"dataframe\">\n",
       "  <thead>\n",
       "    <tr style=\"text-align: right;\">\n",
       "      <th></th>\n",
       "      <th>A</th>\n",
       "      <th>B</th>\n",
       "      <th>C</th>\n",
       "      <th>D</th>\n",
       "    </tr>\n",
       "  </thead>\n",
       "  <tbody>\n",
       "    <tr>\n",
       "      <th>0</th>\n",
       "      <td>0.320493</td>\n",
       "      <td>2.112254</td>\n",
       "      <td>0.126303</td>\n",
       "      <td>1.383168</td>\n",
       "    </tr>\n",
       "    <tr>\n",
       "      <th>1</th>\n",
       "      <td>1.706478</td>\n",
       "      <td>0.349102</td>\n",
       "      <td>-1.886608</td>\n",
       "      <td>0.384762</td>\n",
       "    </tr>\n",
       "    <tr>\n",
       "      <th>2</th>\n",
       "      <td>0.048694</td>\n",
       "      <td>1.188671</td>\n",
       "      <td>-0.671841</td>\n",
       "      <td>-0.260454</td>\n",
       "    </tr>\n",
       "    <tr>\n",
       "      <th>3</th>\n",
       "      <td>0.753235</td>\n",
       "      <td>0.194359</td>\n",
       "      <td>-0.209099</td>\n",
       "      <td>1.075862</td>\n",
       "    </tr>\n",
       "    <tr>\n",
       "      <th>4</th>\n",
       "      <td>1.620447</td>\n",
       "      <td>1.514801</td>\n",
       "      <td>-0.290005</td>\n",
       "      <td>-0.368558</td>\n",
       "    </tr>\n",
       "    <tr>\n",
       "      <th>5</th>\n",
       "      <td>-2.361026</td>\n",
       "      <td>0.046267</td>\n",
       "      <td>-1.900090</td>\n",
       "      <td>-0.521258</td>\n",
       "    </tr>\n",
       "    <tr>\n",
       "      <th>6</th>\n",
       "      <td>1.655073</td>\n",
       "      <td>-0.267248</td>\n",
       "      <td>-0.915795</td>\n",
       "      <td>2.111188</td>\n",
       "    </tr>\n",
       "    <tr>\n",
       "      <th>7</th>\n",
       "      <td>0.738020</td>\n",
       "      <td>-0.112310</td>\n",
       "      <td>-1.995409</td>\n",
       "      <td>0.432872</td>\n",
       "    </tr>\n",
       "  </tbody>\n",
       "</table>\n",
       "</div>"
      ],
      "text/plain": [
       "          A         B         C         D\n",
       "0  0.320493  2.112254  0.126303  1.383168\n",
       "1  1.706478  0.349102 -1.886608  0.384762\n",
       "2  0.048694  1.188671 -0.671841 -0.260454\n",
       "3  0.753235  0.194359 -0.209099  1.075862\n",
       "4  1.620447  1.514801 -0.290005 -0.368558\n",
       "5 -2.361026  0.046267 -1.900090 -0.521258\n",
       "6  1.655073 -0.267248 -0.915795  2.111188\n",
       "7  0.738020 -0.112310 -1.995409  0.432872"
      ]
     },
     "execution_count": 113,
     "metadata": {},
     "output_type": "execute_result"
    }
   ],
   "source": [
    "df = pd.DataFrame(np.random.randn(8, 4), columns = ['A', 'B', 'C', 'D'])\n",
    "df"
   ]
  },
  {
   "cell_type": "code",
   "execution_count": 115,
   "metadata": {},
   "outputs": [
    {
     "data": {
      "text/html": [
       "<div>\n",
       "<style scoped>\n",
       "    .dataframe tbody tr th:only-of-type {\n",
       "        vertical-align: middle;\n",
       "    }\n",
       "\n",
       "    .dataframe tbody tr th {\n",
       "        vertical-align: top;\n",
       "    }\n",
       "\n",
       "    .dataframe thead th {\n",
       "        text-align: right;\n",
       "    }\n",
       "</style>\n",
       "<table border=\"1\" class=\"dataframe\">\n",
       "  <thead>\n",
       "    <tr style=\"text-align: right;\">\n",
       "      <th></th>\n",
       "      <th>A</th>\n",
       "      <th>B</th>\n",
       "      <th>C</th>\n",
       "      <th>D</th>\n",
       "    </tr>\n",
       "  </thead>\n",
       "  <tbody>\n",
       "    <tr>\n",
       "      <th>0</th>\n",
       "      <td>0.320493</td>\n",
       "      <td>2.112254</td>\n",
       "      <td>0.126303</td>\n",
       "      <td>1.383168</td>\n",
       "    </tr>\n",
       "    <tr>\n",
       "      <th>1</th>\n",
       "      <td>1.706478</td>\n",
       "      <td>0.349102</td>\n",
       "      <td>-1.886608</td>\n",
       "      <td>0.384762</td>\n",
       "    </tr>\n",
       "    <tr>\n",
       "      <th>2</th>\n",
       "      <td>0.048694</td>\n",
       "      <td>1.188671</td>\n",
       "      <td>-0.671841</td>\n",
       "      <td>-0.260454</td>\n",
       "    </tr>\n",
       "  </tbody>\n",
       "</table>\n",
       "</div>"
      ],
      "text/plain": [
       "          A         B         C         D\n",
       "0  0.320493  2.112254  0.126303  1.383168\n",
       "1  1.706478  0.349102 -1.886608  0.384762\n",
       "2  0.048694  1.188671 -0.671841 -0.260454"
      ]
     },
     "execution_count": 115,
     "metadata": {},
     "output_type": "execute_result"
    }
   ],
   "source": [
    "# select specific range of rows\n",
    "df.iloc[:3]"
   ]
  },
  {
   "cell_type": "code",
   "execution_count": 118,
   "metadata": {},
   "outputs": [
    {
     "name": "stdout",
     "output_type": "stream",
     "text": [
      "          C         D\n",
      "1 -1.886608  0.384762\n",
      "2 -0.671841 -0.260454\n",
      "3 -0.209099  1.075862\n",
      "4 -0.290005 -0.368558\n"
     ]
    }
   ],
   "source": [
    "# Integer slicing\n",
    "print (df.iloc[1:5, 2:4])"
   ]
  },
  {
   "cell_type": "code",
   "execution_count": 119,
   "metadata": {},
   "outputs": [
    {
     "name": "stdout",
     "output_type": "stream",
     "text": [
      "          B         D\n",
      "1  0.349102  0.384762\n",
      "3  0.194359  1.075862\n",
      "5  0.046267 -0.521258\n"
     ]
    }
   ],
   "source": [
    "# Slicing through list of values\n",
    "print (df.iloc[[1, 3, 5], [1, 3]])"
   ]
  },
  {
   "cell_type": "code",
   "execution_count": 121,
   "metadata": {},
   "outputs": [
    {
     "name": "stdout",
     "output_type": "stream",
     "text": [
      "          A         B         C         D\n",
      "1  1.706478  0.349102 -1.886608  0.384762\n",
      "2  0.048694  1.188671 -0.671841 -0.260454\n"
     ]
    }
   ],
   "source": [
    "#first three rows with all columns\n",
    "print (df.iloc[1:3 , :])"
   ]
  },
  {
   "cell_type": "code",
   "execution_count": 122,
   "metadata": {},
   "outputs": [
    {
     "name": "stdout",
     "output_type": "stream",
     "text": [
      "          B         C\n",
      "0  2.112254  0.126303\n",
      "1  0.349102 -1.886608\n",
      "2  1.188671 -0.671841\n",
      "3  0.194359 -0.209099\n",
      "4  1.514801 -0.290005\n",
      "5  0.046267 -1.900090\n",
      "6 -0.267248 -0.915795\n",
      "7 -0.112310 -1.995409\n"
     ]
    }
   ],
   "source": [
    "# all rows with first three columns\n",
    "print (df.iloc[: ,1:3])\n",
    "\n",
    "# A = 0 ,  B = 1 ,  C = 2 , D =3"
   ]
  },
  {
   "cell_type": "code",
   "execution_count": null,
   "metadata": {},
   "outputs": [],
   "source": []
  }
 ],
 "metadata": {
  "kernelspec": {
   "display_name": "Python 3",
   "language": "python",
   "name": "python3"
  },
  "language_info": {
   "codemirror_mode": {
    "name": "ipython",
    "version": 3
   },
   "file_extension": ".py",
   "mimetype": "text/x-python",
   "name": "python",
   "nbconvert_exporter": "python",
   "pygments_lexer": "ipython3",
   "version": "3.7.1"
  }
 },
 "nbformat": 4,
 "nbformat_minor": 2
}
